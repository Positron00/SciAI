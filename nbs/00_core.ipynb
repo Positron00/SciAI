{
 "cells": [
  {
   "cell_type": "markdown",
   "metadata": {},
   "source": [
    "# core\n",
    "\n",
    "> This is where users start to interact with the underlying LLM and agents."
   ]
  },
  {
   "cell_type": "code",
   "execution_count": null,
   "metadata": {},
   "outputs": [],
   "source": [
    "#| default_exp core"
   ]
  },
  {
   "cell_type": "code",
   "execution_count": null,
   "metadata": {},
   "outputs": [],
   "source": [
    "#| hide\n",
    "from nbdev.showdoc import *"
   ]
  },
  {
   "cell_type": "code",
   "execution_count": null,
   "metadata": {},
   "outputs": [],
   "source": [
    "#| export\n",
    "# install dependencies\n",
    "# %pip install replicate\n",
    "# %pip install gradio\n",
    "# %pip install langchain"
   ]
  },
  {
   "cell_type": "code",
   "execution_count": null,
   "metadata": {},
   "outputs": [
    {
     "name": "stderr",
     "output_type": "stream",
     "text": [
      "/Volumes/SSD2TB/Google Drive/Work/MachineLearning/SciAI/nbs/llm_QA.py:197: SyntaxWarning: invalid escape sequence '\\<'\n",
      "  \"\"\"\n"
     ]
    }
   ],
   "source": [
    "#| export\n",
    "# import langchain\n",
    "\n",
    "import os\n",
    "import llm_QA\n"
   ]
  },
  {
   "cell_type": "code",
   "execution_count": null,
   "metadata": {},
   "outputs": [],
   "source": [
    "#| export\n",
    "\n",
    "model = llm_QA.LLM(\"meta-llama\", \"TogetherAI\")"
   ]
  },
  {
   "cell_type": "code",
   "execution_count": null,
   "metadata": {},
   "outputs": [],
   "source": [
    "#| hide\n",
    "# interact with the model directly to test\n",
    "messages = [\n",
    "  {\n",
    "    \"role\": \"user\",\n",
    "    \"content\": \"what are large language models?\"\n",
    "  }\n",
    "]\n",
    "\n",
    "response = model.get_llm_response(messages)\n",
    "print(response)"
   ]
  },
  {
   "cell_type": "code",
   "execution_count": null,
   "metadata": {},
   "outputs": [],
   "source": [
    "#| hide\n",
    "# interact with the model directly to test multimodal inputs\n",
    "from PIL import Image\n",
    "import matplotlib.pyplot as plt\n",
    "\n",
    "def display_local_image(image_path):\n",
    "    img = Image.open(image_path)\n",
    "    plt.imshow(img)\n",
    "    plt.axis('off')\n",
    "    plt.show()\n",
    "\n",
    "display_local_image(\"images/a_colorful_llama_doing_ai_programming.jpeg\")\n",
    "\n"
   ]
  },
  {
   "cell_type": "code",
   "execution_count": null,
   "metadata": {},
   "outputs": [
    {
     "name": "stdout",
     "output_type": "stream",
     "text": [
      "* Running on local URL:  http://127.0.0.1:7860\n",
      "Using cache from '/Volumes/SSD2TB/Google Drive/Work/MachineLearning/SciAI/nbs/.gradio/cached_examples/11' directory. If method or examples have changed since last caching, delete this folder to clear cache.\n",
      "\n",
      "\n",
      "Could not create share link. Please check your internet connection or our status page: https://status.gradio.app.\n"
     ]
    },
    {
     "data": {
      "text/html": [
       "<div><iframe src=\"http://127.0.0.1:7860/\" width=\"100%\" height=\"500\" allow=\"autoplay; camera; microphone; clipboard-read; clipboard-write;\" frameborder=\"0\" allowfullscreen></iframe></div>"
      ],
      "text/plain": [
       "<IPython.core.display.HTML object>"
      ]
     },
     "metadata": {},
     "output_type": "display_data"
    },
    {
     "data": {
      "text/plain": []
     },
     "execution_count": null,
     "metadata": {},
     "output_type": "execute_result"
    },
    {
     "name": "stderr",
     "output_type": "stream",
     "text": [
      "Traceback (most recent call last):\n",
      "  File \"/Users/danc/anaconda3/envs/llm/lib/python3.12/site-packages/gradio/queueing.py\", line 624, in process_events\n",
      "    response = await route_utils.call_process_api(\n",
      "               ^^^^^^^^^^^^^^^^^^^^^^^^^^^^^^^^^^^\n",
      "  File \"/Users/danc/anaconda3/envs/llm/lib/python3.12/site-packages/gradio/route_utils.py\", line 323, in call_process_api\n",
      "    output = await app.get_blocks().process_api(\n",
      "             ^^^^^^^^^^^^^^^^^^^^^^^^^^^^^^^^^^^\n",
      "  File \"/Users/danc/anaconda3/envs/llm/lib/python3.12/site-packages/gradio/blocks.py\", line 2015, in process_api\n",
      "    result = await self.call_function(\n",
      "             ^^^^^^^^^^^^^^^^^^^^^^^^^\n",
      "  File \"/Users/danc/anaconda3/envs/llm/lib/python3.12/site-packages/gradio/blocks.py\", line 1560, in call_function\n",
      "    prediction = await fn(*processed_input)\n",
      "                 ^^^^^^^^^^^^^^^^^^^^^^^^^^\n",
      "  File \"/Users/danc/anaconda3/envs/llm/lib/python3.12/site-packages/gradio/utils.py\", line 832, in async_wrapper\n",
      "    response = await f(*args, **kwargs)\n",
      "               ^^^^^^^^^^^^^^^^^^^^^^^^\n",
      "  File \"/Users/danc/anaconda3/envs/llm/lib/python3.12/site-packages/gradio/chat_interface.py\", line 649, in _submit_fn\n",
      "    response = await anyio.to_thread.run_sync(\n",
      "               ^^^^^^^^^^^^^^^^^^^^^^^^^^^^^^^\n",
      "  File \"/Users/danc/anaconda3/envs/llm/lib/python3.12/site-packages/anyio/to_thread.py\", line 56, in run_sync\n",
      "    return await get_async_backend().run_sync_in_worker_thread(\n",
      "           ^^^^^^^^^^^^^^^^^^^^^^^^^^^^^^^^^^^^^^^^^^^^^^^^^^^^\n",
      "  File \"/Users/danc/anaconda3/envs/llm/lib/python3.12/site-packages/anyio/_backends/_asyncio.py\", line 2177, in run_sync_in_worker_thread\n",
      "    return await future\n",
      "           ^^^^^^^^^^^^\n",
      "  File \"/Users/danc/anaconda3/envs/llm/lib/python3.12/site-packages/anyio/_backends/_asyncio.py\", line 859, in run\n",
      "    result = context.run(func, *args)\n",
      "             ^^^^^^^^^^^^^^^^^^^^^^^^\n",
      "  File \"/var/folders/bf/jhq9xfmd3pl5gx2syv_nn_zc0000gp/T/ipykernel_42865/3797529867.py\", line 15, in taskRouter\n",
      "    response = model.get_llm_response(messages)\n",
      "               ^^^^^^^^^^^^^^^^^^^^^^^^^^^^^^^^\n",
      "  File \"/Volumes/SSD2TB/Google Drive/Work/MachineLearning/SciAI/nbs/llm_QA.py\", line 61, in get_llm_response\n",
      "    return self.llama32(prompt)\n",
      "           ^^^^^^^^^^^^^^^^^^^^\n",
      "  File \"/Volumes/SSD2TB/Google Drive/Work/MachineLearning/SciAI/nbs/llm_QA.py\", line 104, in llama32\n",
      "    raise Exception(result['error'])\n",
      "Exception: {'message': 'Input validation error', 'type': 'invalid_request_error', 'param': None, 'code': None}\n",
      "Traceback (most recent call last):\n",
      "  File \"/Users/danc/anaconda3/envs/llm/lib/python3.12/site-packages/gradio/queueing.py\", line 624, in process_events\n",
      "    response = await route_utils.call_process_api(\n",
      "               ^^^^^^^^^^^^^^^^^^^^^^^^^^^^^^^^^^^\n",
      "  File \"/Users/danc/anaconda3/envs/llm/lib/python3.12/site-packages/gradio/route_utils.py\", line 323, in call_process_api\n",
      "    output = await app.get_blocks().process_api(\n",
      "             ^^^^^^^^^^^^^^^^^^^^^^^^^^^^^^^^^^^\n",
      "  File \"/Users/danc/anaconda3/envs/llm/lib/python3.12/site-packages/gradio/blocks.py\", line 2015, in process_api\n",
      "    result = await self.call_function(\n",
      "             ^^^^^^^^^^^^^^^^^^^^^^^^^\n",
      "  File \"/Users/danc/anaconda3/envs/llm/lib/python3.12/site-packages/gradio/blocks.py\", line 1560, in call_function\n",
      "    prediction = await fn(*processed_input)\n",
      "                 ^^^^^^^^^^^^^^^^^^^^^^^^^^\n",
      "  File \"/Users/danc/anaconda3/envs/llm/lib/python3.12/site-packages/gradio/utils.py\", line 832, in async_wrapper\n",
      "    response = await f(*args, **kwargs)\n",
      "               ^^^^^^^^^^^^^^^^^^^^^^^^\n",
      "  File \"/Users/danc/anaconda3/envs/llm/lib/python3.12/site-packages/gradio/chat_interface.py\", line 649, in _submit_fn\n",
      "    response = await anyio.to_thread.run_sync(\n",
      "               ^^^^^^^^^^^^^^^^^^^^^^^^^^^^^^^\n",
      "  File \"/Users/danc/anaconda3/envs/llm/lib/python3.12/site-packages/anyio/to_thread.py\", line 56, in run_sync\n",
      "    return await get_async_backend().run_sync_in_worker_thread(\n",
      "           ^^^^^^^^^^^^^^^^^^^^^^^^^^^^^^^^^^^^^^^^^^^^^^^^^^^^\n",
      "  File \"/Users/danc/anaconda3/envs/llm/lib/python3.12/site-packages/anyio/_backends/_asyncio.py\", line 2177, in run_sync_in_worker_thread\n",
      "    return await future\n",
      "           ^^^^^^^^^^^^\n",
      "  File \"/Users/danc/anaconda3/envs/llm/lib/python3.12/site-packages/anyio/_backends/_asyncio.py\", line 859, in run\n",
      "    result = context.run(func, *args)\n",
      "             ^^^^^^^^^^^^^^^^^^^^^^^^\n",
      "  File \"/var/folders/bf/jhq9xfmd3pl5gx2syv_nn_zc0000gp/T/ipykernel_42865/3797529867.py\", line 15, in taskRouter\n",
      "    response = model.get_llm_response(messages)\n",
      "               ^^^^^^^^^^^^^^^^^^^^^^^^^^^^^^^^\n",
      "  File \"/Volumes/SSD2TB/Google Drive/Work/MachineLearning/SciAI/nbs/llm_QA.py\", line 61, in get_llm_response\n",
      "    return self.llama32(prompt)\n",
      "           ^^^^^^^^^^^^^^^^^^^^\n",
      "  File \"/Volumes/SSD2TB/Google Drive/Work/MachineLearning/SciAI/nbs/llm_QA.py\", line 104, in llama32\n",
      "    raise Exception(result['error'])\n",
      "Exception: {'message': 'Input validation error', 'type': 'invalid_request_error', 'param': None, 'code': None}\n"
     ]
    }
   ],
   "source": [
    "#| export\n",
    "# A chatbot that allows users to interact with an LLM\n",
    "import gradio as gr\n",
    "\n",
    "def taskRouter(input, history):\n",
    "    prompt = input[\"text\"]\n",
    "    files = input[\"files\"]\n",
    "    messages = [history,\n",
    "        {\n",
    "            \"role\": \"user\",\n",
    "            \"content\": prompt\n",
    "        }\n",
    "    ]\n",
    "\n",
    "    response = model.get_llm_response(messages)\n",
    "    #history = [messages, \n",
    "    #    {\n",
    "    #        \"role\": \"assistant\",\n",
    "    #        \"content\": response\n",
    "    #    }\n",
    "    #]\n",
    "    return response\n",
    "\n",
    "def vote(data: gr.LikeData):\n",
    "    if data.liked:\n",
    "        print(\"You upvoted this response: \" + data.value[\"value\"])\n",
    "    else:\n",
    "        print(\"You downvoted this response: \" + data.value[\"value\"])\n",
    "\n",
    "with gr.Blocks() as sciChat:\n",
    "    chatbot = gr.Chatbot(\n",
    "        height=300,\n",
    "        type=\"messages\",\n",
    "        placeholder=\"<strong>Your Personal Science AI Assistant</strong><br>Ask Me Anything\")\n",
    "    chatbot.like(vote, None, None)\n",
    "    gr.ChatInterface(\n",
    "        fn=taskRouter,\n",
    "        type=\"messages\",\n",
    "        chatbot=chatbot,\n",
    "        textbox=gr.MultimodalTextbox(placeholder=\"How can I help?\", container=False, scale=7),\n",
    "        title=\"SciAI Assistant\",\n",
    "        description=\"Ask me any question or carry out a task\",\n",
    "        theme=\"soft\",\n",
    "        examples=[{\"text\": \"Hello\", \"files\": []},{\"text\": \"What do you see in this image?\", \"files\": []}],\n",
    "        cache_examples=True,\n",
    "        multimodal=True\n",
    "    )\n",
    "    \n",
    "sciChat.launch(share=True)"
   ]
  },
  {
   "cell_type": "code",
   "execution_count": null,
   "metadata": {},
   "outputs": [],
   "source": [
    "#| hide\n",
    "import nbdev; nbdev.nbdev_export()"
   ]
  }
 ],
 "metadata": {
  "kernelspec": {
   "display_name": "python3",
   "language": "python",
   "name": "python3"
  }
 },
 "nbformat": 4,
 "nbformat_minor": 4
}
