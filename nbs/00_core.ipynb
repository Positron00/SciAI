{
 "cells": [
  {
   "cell_type": "markdown",
   "metadata": {},
   "source": [
    "# core\n",
    "\n",
    "> This is where users start to interact with the underlying LLM and agents."
   ]
  },
  {
   "cell_type": "code",
   "execution_count": 1,
   "metadata": {},
   "outputs": [],
   "source": [
    "#| default_exp core"
   ]
  },
  {
   "cell_type": "code",
   "execution_count": 2,
   "metadata": {},
   "outputs": [],
   "source": [
    "#| hide\n",
    "from nbdev.showdoc import *"
   ]
  },
  {
   "cell_type": "code",
   "execution_count": null,
   "metadata": {},
   "outputs": [],
   "source": [
    "#| export\n",
    "# install dependencies\n",
    "# %pip install replicate\n",
    "# %pip install gradio\n",
    "# %pip install langchain"
   ]
  },
  {
   "cell_type": "code",
   "execution_count": 4,
   "metadata": {},
   "outputs": [
    {
     "name": "stderr",
     "output_type": "stream",
     "text": [
      "/Volumes/SSD2TB/Google Drive/Work/MachineLearning/SciAI/nbs/llm_QA.py:197: SyntaxWarning: invalid escape sequence '\\<'\n",
      "  },\n"
     ]
    }
   ],
   "source": [
    "#| export\n",
    "# import langchain\n",
    "\n",
    "import os\n",
    "import llm_QA\n"
   ]
  },
  {
   "cell_type": "code",
   "execution_count": 5,
   "metadata": {},
   "outputs": [],
   "source": [
    "#| export\n",
    "\n",
    "model = llm_QA.LLM(\"meta-llama\", \"TogetherAI\")"
   ]
  },
  {
   "cell_type": "code",
   "execution_count": null,
   "metadata": {},
   "outputs": [],
   "source": [
    "#| export\n",
    "# A chatbot that allows users to interact with an LLM\n",
    "import gradio as gr\n",
    "\n",
    "def taskRouter(input, history):\n",
    "    prompt = input[\"text\"]\n",
    "    files = input[\"files\"]\n",
    "    messages = [history,\n",
    "        {\n",
    "            \"role\": \"user\",\n",
    "            \"content\": prompt\n",
    "        }\n",
    "    ]\n",
    "\n",
    "    response = model.get_llm_response(messages)\n",
    "    #history = [messages, \n",
    "    #    {\n",
    "    #        \"role\": \"assistant\",\n",
    "    #        \"content\": response\n",
    "    #    }\n",
    "    #]\n",
    "    return response\n",
    "\n",
    "def vote(data: gr.LikeData):\n",
    "    if data.liked:\n",
    "        print(\"You upvoted this response: \" + data.value[\"value\"])\n",
    "    else:\n",
    "        print(\"You downvoted this response: \" + data.value[\"value\"])\n",
    "\n",
    "with gr.Blocks() as sciChat:\n",
    "    chatbot = gr.Chatbot(\n",
    "        height=300,\n",
    "        type=\"messages\",\n",
    "        placeholder=\"<strong>Your Personal Science AI Assistant</strong><br>Ask Me Anything\")\n",
    "    chatbot.like(vote, None, None)\n",
    "    gr.ChatInterface(\n",
    "        fn=taskRouter,\n",
    "        type=\"messages\",\n",
    "        chatbot=chatbot,\n",
    "        textbox=gr.MultimodalTextbox(placeholder=\"How can I help?\", container=False, scale=7),\n",
    "        title=\"SciAI Assistant\",\n",
    "        description=\"Ask me any question or carry out a task\",\n",
    "        theme=\"soft\",\n",
    "        examples=[{\"text\": \"Hello\", \"files\": []},{\"text\": \"What do you see in this image?\", \"files\": []}],\n",
    "        cache_examples=True,\n",
    "        multimodal=True\n",
    "    )\n",
    "    \n",
    "sciChat.launch(share=True)"
   ]
  },
  {
   "cell_type": "code",
   "execution_count": null,
   "metadata": {},
   "outputs": [],
   "source": [
    "#| hide\n",
    "import nbdev; nbdev.nbdev_export()"
   ]
  }
 ],
 "metadata": {
  "kernelspec": {
   "display_name": "python3",
   "language": "python",
   "name": "python3"
  },
  "language_info": {
   "codemirror_mode": {
    "name": "ipython",
    "version": 3
   },
   "file_extension": ".py",
   "mimetype": "text/x-python",
   "name": "python",
   "nbconvert_exporter": "python",
   "pygments_lexer": "ipython3",
   "version": "3.12.2"
  }
 },
 "nbformat": 4,
 "nbformat_minor": 4
}
