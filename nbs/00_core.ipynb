{
 "cells": [
  {
   "cell_type": "markdown",
   "metadata": {},
   "source": [
    "# core\n",
    "\n",
    "> This is where users start to interact with the underlying LLM and agents."
   ]
  },
  {
   "cell_type": "code",
   "execution_count": null,
   "metadata": {},
   "outputs": [],
   "source": [
    "#| default_exp core"
   ]
  },
  {
   "cell_type": "code",
   "execution_count": null,
   "metadata": {},
   "outputs": [],
   "source": [
    "#| hide\n",
    "from nbdev.showdoc import *"
   ]
  },
  {
   "cell_type": "code",
   "execution_count": null,
   "metadata": {},
   "outputs": [],
   "source": [
    "#| export\n",
    "# install dependencies\n",
    "# %pip install replicate\n",
    "# %pip install gradio\n",
    "# %pip install langchain"
   ]
  },
  {
   "cell_type": "code",
   "execution_count": null,
   "metadata": {},
   "outputs": [],
   "source": [
    "#| export\n",
    "# import replicate\n",
    "# import gradio\n",
    "# import langchain\n",
    "\n",
    "import os\n",
    "from getpass import getpass\n",
    "\n",
    "# Enter REPLICATE API TOKEN to run inference\n",
    "REPLICATE_API_TOKEN = getpass(prompt=\"Enter REPLICATE API TOKEN: \")\n",
    "os.environ[\"REPLICATE_API_TOKEN\"] = REPLICATE_API_TOKEN"
   ]
  },
  {
   "cell_type": "code",
   "execution_count": null,
   "metadata": {},
   "outputs": [],
   "source": [
    "#| export\n",
    "import replicate\n",
    "\n",
    "# function to run inference with Meta's Llama 3.8B model\n",
    "def llama3_8b(prompt):\n",
    "    output = replicate.run(\n",
    "      \"meta/meta-llama-3-8b-instruct\",\n",
    "      input={\"prompt\": prompt}\n",
    "    )\n",
    "    return ''.join(output)"
   ]
  },
  {
   "cell_type": "code",
   "execution_count": null,
   "metadata": {},
   "outputs": [],
   "source": [
    "#| export\n",
    "# A chatbot that allows users to interact with an LLM\n",
    "import gradio as gr\n",
    "\n",
    "def taskRouter(message, history):\n",
    "    if message.endswith(\"?\"):\n",
    "        return \"Good question!\"\n",
    "    elif \"Hello\" in message:\n",
    "        return \"Hello! How can I help?\"\n",
    "    else:\n",
    "        return \"Let me work on that....\"\n",
    "\n",
    "def vote(data: gr.LikeData):\n",
    "    if data.liked:\n",
    "        print(\"You upvoted this response: \" + data.value[\"value\"])\n",
    "    else:\n",
    "        print(\"You downvoted this response: \" + data.value[\"value\"])\n",
    "\n",
    "with gr.Blocks() as sciChat:\n",
    "    chatbot = gr.Chatbot(height=300,placeholder=\"<strong>Your Personal Science AI Assistant</strong><br>Ask Me Anything\")\n",
    "    chatbot.like(vote, None, None)\n",
    "    gr.ChatInterface(\n",
    "        fn=taskRouter,\n",
    "        type=\"messages\",\n",
    "        chatbot=chatbot,\n",
    "        textbox=gr.Textbox(placeholder=\"How can I help?\", container=False, scale=7),\n",
    "        title=\"SciAI Assistant\",\n",
    "        description=\"Ask me any question or carry out a task\",\n",
    "        theme=\"soft\",\n",
    "        examples=[\"Hello\", \"What's new last week in neuroscience?\", \"I need help analyze some data\"],\n",
    "        cache_examples=True\n",
    "    )\n",
    "    \n",
    "sciChat.launch(share=True)"
   ]
  },
  {
   "cell_type": "code",
   "execution_count": null,
   "metadata": {},
   "outputs": [],
   "source": [
    "#| hide\n",
    "import nbdev; nbdev.nbdev_export()"
   ]
  }
 ],
 "metadata": {
  "kernelspec": {
   "display_name": "python3",
   "language": "python",
   "name": "python3"
  }
 },
 "nbformat": 4,
 "nbformat_minor": 4
}
