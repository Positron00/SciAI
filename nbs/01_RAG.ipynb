{
 "cells": [
  {
   "cell_type": "markdown",
   "id": "58ee965a",
   "metadata": {},
   "source": [
    "# RAG\n",
    "\n",
    "> This is where retrieval augmented generation (RAG) operations are executed."
   ]
  },
  {
   "cell_type": "code",
   "execution_count": null,
   "id": "28814d65",
   "metadata": {},
   "outputs": [],
   "source": [
    "#| default_exp llm_rag"
   ]
  },
  {
   "cell_type": "code",
   "execution_count": null,
   "id": "770cc4db",
   "metadata": {},
   "outputs": [],
   "source": [
    "#| hide\n",
    "from nbdev.showdoc import *"
   ]
  },
  {
   "cell_type": "code",
   "execution_count": null,
   "id": "8fece411",
   "metadata": {},
   "outputs": [],
   "source": [
    "#| export\n",
    "# Retrieval Augmented Generation (RAG) using LangChain\n",
    "# %pip install langchain\n",
    "# %pip install langchain-community\n",
    "# %pip install sentence-transformers\n",
    "# %pip install faiss-cpu\n",
    "# %pip install bs4\n",
    "# %pip install langchain-groq"
   ]
  },
  {
   "cell_type": "markdown",
   "id": "94307efd",
   "metadata": {},
   "source": [
    "####  LangChain Q&A Retriever\n",
    "* ConversationalRetrievalChain\n",
    "* Query the Source documents"
   ]
  },
  {
   "cell_type": "code",
   "execution_count": null,
   "id": "c11f6e63",
   "metadata": {},
   "outputs": [],
   "source": [
    "#| export\n",
    "# import libraries\n",
    "\n",
    "from langchain_community.embeddings import HuggingFaceEmbeddings\n",
    "from langchain_community.vectorstores import FAISS\n",
    "from langchain.text_splitter import RecursiveCharacterTextSplitter\n",
    "from langchain_community.document_loaders import WebBaseLoader\n",
    "import bs4\n",
    "\n",
    "# Step 1: Load the document from a web url\n",
    "loader = WebBaseLoader([\"https://huggingface.co/blog/llama31\"])\n",
    "documents = loader.load()\n",
    "\n",
    "# Step 2: Split the document into chunks with a specified chunk size\n",
    "text_splitter = RecursiveCharacterTextSplitter(chunk_size=500, chunk_overlap=50)\n",
    "all_splits = text_splitter.split_documents(documents)\n",
    "\n",
    "# Step 3: Store the document into a vector store with a specific embedding model\n",
    "vectorstore = FAISS.from_documents(all_splits, HuggingFaceEmbeddings(model_name=\"sentence-transformers/all-mpnet-base-v2\"))"
   ]
  },
  {
   "cell_type": "markdown",
   "id": "b09e26c5",
   "metadata": {},
   "source": [
    "First sign in at [Groq](https://console.groq.com/login) with your github or gmail account, then get an API token to try Groq out for free."
   ]
  },
  {
   "cell_type": "code",
   "execution_count": null,
   "id": "0cac4e20",
   "metadata": {},
   "outputs": [],
   "source": [
    "#| export\n",
    "# get groq api key\n",
    "import os\n",
    "from getpass import getpass\n",
    "\n",
    "GROQ_API_TOKEN = getpass(prompt=\"Enter GROQ API TOKEN: \")\n",
    "os.environ[\"GROQ_API_KEY\"] = GROQ_API_TOKEN"
   ]
  },
  {
   "cell_type": "code",
   "execution_count": null,
   "id": "a18e8e2c",
   "metadata": {},
   "outputs": [],
   "source": [
    "#| export\n",
    "# initialize groq llm\n",
    "from langchain_groq import ChatGroq\n",
    "llm = ChatGroq(temperature=0, model_name=\"llama3-8b-8192\")"
   ]
  },
  {
   "cell_type": "code",
   "execution_count": null,
   "id": "4d424829",
   "metadata": {},
   "outputs": [],
   "source": [
    "#| export\n",
    "# initialize retrieval chain\n",
    "from langchain.chains import ConversationalRetrievalChain\n",
    "\n",
    "chain = ConversationalRetrievalChain.from_llm(llm,vectorstore.as_retriever(),return_source_documents=True)\n",
    "\n",
    "# no chat history passed\n",
    "result = chain({\"question\": \"What’s new with Llama 3?\", \"chat_history\": []})\n",
    "utilsLlama.md(result['answer'])\n"
   ]
  },
  {
   "cell_type": "code",
   "execution_count": null,
   "id": "bb6836cf",
   "metadata": {},
   "outputs": [],
   "source": [
    "#| export\n",
    "# This time your previous question and answer will be included as a chat history which will enable the ability\n",
    "# to ask follow up questions.\n",
    "query = \"What two sizes?\"\n",
    "chat_history = [(query, result[\"answer\"])]\n",
    "result = chain({\"question\": query, \"chat_history\": chat_history})\n",
    "utilsLlama.md(result['answer'])"
   ]
  },
  {
   "cell_type": "code",
   "execution_count": null,
   "id": "827fefd5",
   "metadata": {},
   "outputs": [],
   "source": [
    "#| hide\n",
    "import nbdev; nbdev.nbdev_export()"
   ]
  }
 ],
 "metadata": {
  "kernelspec": {
   "display_name": "python3",
   "language": "python",
   "name": "python3"
  }
 },
 "nbformat": 4,
 "nbformat_minor": 5
}
